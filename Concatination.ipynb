{
  "nbformat": 4,
  "nbformat_minor": 0,
  "metadata": {
    "colab": {
      "provenance": [],
      "authorship_tag": "ABX9TyOuAgeq6P20glR8cVRVN623",
      "include_colab_link": true
    },
    "kernelspec": {
      "name": "python3",
      "display_name": "Python 3"
    },
    "language_info": {
      "name": "python"
    }
  },
  "cells": [
    {
      "cell_type": "markdown",
      "metadata": {
        "id": "view-in-github",
        "colab_type": "text"
      },
      "source": [
        "<a href=\"https://colab.research.google.com/github/Dhakal1997/Python-basics/blob/main/Concatination.ipynb\" target=\"_parent\"><img src=\"https://colab.research.google.com/assets/colab-badge.svg\" alt=\"Open In Colab\"/></a>"
      ]
    },
    {
      "cell_type": "code",
      "execution_count": 28,
      "metadata": {
        "colab": {
          "base_uri": "https://localhost:8080/"
        },
        "id": "jxvNP_1xt3mi",
        "outputId": "6a932736-116a-46bb-91c0-e6da7d5f37e9"
      },
      "outputs": [
        {
          "output_type": "stream",
          "name": "stdout",
          "text": [
            "love is life\n",
            "110\n"
          ]
        }
      ],
      "source": [
        "love = 100\n",
        "love_1 = \"love is \"\n",
        "life = 10\n",
        "life_1 = \"life\"\n",
        "tot = love + life # calculates addition (int + int)\n",
        "total_1 = love_1 + life_1 # prints concatintion (str + str)\n",
        "print(total_1)\n",
        "print(tot)\n"
      ]
    }
  ]
}