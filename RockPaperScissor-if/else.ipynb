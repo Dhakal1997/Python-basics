{
  "nbformat": 4,
  "nbformat_minor": 0,
  "metadata": {
    "colab": {
      "provenance": [],
      "authorship_tag": "ABX9TyMKsoWN3K+fKY+16o2cLOK9",
      "include_colab_link": true
    },
    "kernelspec": {
      "name": "python3",
      "display_name": "Python 3"
    },
    "language_info": {
      "name": "python"
    }
  },
  "cells": [
    {
      "cell_type": "markdown",
      "metadata": {
        "id": "view-in-github",
        "colab_type": "text"
      },
      "source": [
        "<a href=\"https://colab.research.google.com/github/Dhakal1997/Python-basics/blob/main/RockPaperScissor-if/else.ipynb\" target=\"_parent\"><img src=\"https://colab.research.google.com/assets/colab-badge.svg\" alt=\"Open In Colab\"/></a>"
      ]
    },
    {
      "cell_type": "code",
      "execution_count": 17,
      "metadata": {
        "colab": {
          "base_uri": "https://localhost:8080/"
        },
        "id": "2akR7HO8wLIO",
        "outputId": "2c6d0155-28fd-4673-860a-6bc036016919"
      },
      "outputs": [
        {
          "output_type": "stream",
          "name": "stdout",
          "text": [
            "Enter 1 for Rock, 2 for paper, or 3 for scissors: 2\n",
            "you lose\n",
            "You Chose Paper\n",
            "Comp Chose Scissors\n"
          ]
        }
      ],
      "source": [
        "import random\n",
        "comp = random.randint(1,3)\n",
        "options = [\"Not VAlid\",\"Rock\",\"Paper\", \"Scissors\"]\n",
        "we = int(input(\"Enter 1 for Rock, 2 for paper, or 3 for scissors: \"))\n",
        "if comp == 1 and we == 2:\n",
        "  print(\"You win!! \")\n",
        "elif comp == 1 and we == 3:\n",
        "  print(\"you lose\")\n",
        "elif comp == 2 and we == 1:\n",
        "  print(\"you lose\")\n",
        "elif comp == 2 and we == 3:\n",
        "  print(\"you win\")\n",
        "elif comp == 3 and we == 1:\n",
        "  print(\"you win\")\n",
        "elif comp == 3 and we == 2:\n",
        "  print(\"you lose\")\n",
        "else:\n",
        "  print(\"Its a tie!!\")\n",
        "\n",
        "print(\"You Chose\",options[we])\n",
        "print(\"Comp Chose\", options[comp])"
      ]
    }
  ]
}