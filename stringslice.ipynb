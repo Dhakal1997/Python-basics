{
  "nbformat": 4,
  "nbformat_minor": 0,
  "metadata": {
    "colab": {
      "provenance": [],
      "authorship_tag": "ABX9TyMW0lKrWvrkFUB199N4rCjk",
      "include_colab_link": true
    },
    "kernelspec": {
      "name": "python3",
      "display_name": "Python 3"
    },
    "language_info": {
      "name": "python"
    }
  },
  "cells": [
    {
      "cell_type": "markdown",
      "metadata": {
        "id": "view-in-github",
        "colab_type": "text"
      },
      "source": [
        "<a href=\"https://colab.research.google.com/github/Dhakal1997/Python-basics/blob/main/stringslice.ipynb\" target=\"_parent\"><img src=\"https://colab.research.google.com/assets/colab-badge.svg\" alt=\"Open In Colab\"/></a>"
      ]
    },
    {
      "cell_type": "code",
      "execution_count": 10,
      "metadata": {
        "colab": {
          "base_uri": "https://localhost:8080/"
        },
        "id": "jxvNP_1xt3mi",
        "outputId": "3f85b4b3-988e-4b7d-cf50-de36317b3fe4"
      },
      "outputs": [
        {
          "output_type": "stream",
          "name": "stdout",
          "text": [
            "I\n",
            "lovely\n",
            ".yad ynnuf dna ylevol stI\n",
            "day.\n"
          ]
        }
      ],
      "source": [
        "weather = \"Its lovely and funny day.\"\n",
        "sub_its = (weather[0]) #first letter\n",
        "abc =weather[4:10] # second word\n",
        "rev = weather[::-1]# Reverse whole struct\n",
        "last = weather[21:25]# last word\n",
        "print(sub_its)\n",
        "print(abc)\n",
        "print(rev)\n",
        "print(last)"
      ]
    }
  ]
}